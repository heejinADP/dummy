{
 "cells": [
  {
   "cell_type": "markdown",
   "metadata": {},
   "source": [
    "# 화해 사전TEST 과제     \n",
    "가입후 7일 이내 재방문율 증가를 위한 인사이트 탐색"
   ]
  },
  {
   "cell_type": "markdown",
   "metadata": {},
   "source": [
    "## 데이터 탐색 전 호기심과 가설"
   ]
  },
  {
   "cell_type": "markdown",
   "metadata": {},
   "source": [
    "- 화해에 가입한 이유는 무엇일까요?     \n",
    "- 화해 사용자의 7일 이내 재방문율은 얼마일까요?\n",
    "- 화해 고객들의 user_path은 얼마일까요?\n",
    "- 7일 이내 재방문 고객의 화해 Session time은 어느정도일까요?      "
   ]
  },
  {
   "cell_type": "markdown",
   "metadata": {},
   "source": [
    "- 양방향 커뮤니케이션을 지향하는 화해에서는 고객의 Session Time이 길어질수록 브랜드 충성도가 높아질 것입니다.\n",
    "- 7일 이내 재방문 고객의 전체 충성도가 높을 것입니다."
   ]
  },
  {
   "cell_type": "markdown",
   "metadata": {},
   "source": [
    "## EDA"
   ]
  },
  {
   "cell_type": "markdown",
   "metadata": {},
   "source": [
    "**용어 정의**    \n",
    "- 가입후 7일 이내 재방문율  = 가입자 중에서 (가입일+1)일 부터 (가입일+7)일 이내에 재방문하는 사용자의 비율 "
   ]
  },
  {
   "cell_type": "markdown",
   "metadata": {},
   "source": [
    "**columns**    \n",
    "- user_id: 사용자id(식별자)    \n",
    "- event: 사용자의 앱 내 행동     \n",
    "- time: event가 발생한 시간 ( KST, 한국시 기준 ) "
   ]
  },
  {
   "cell_type": "code",
   "execution_count": 68,
   "metadata": {},
   "outputs": [],
   "source": [
    "import numpy as np\n",
    "import pandas as pd\n",
    "from datetime import datetime, timedelta"
   ]
  },
  {
   "cell_type": "code",
   "execution_count": 69,
   "metadata": {},
   "outputs": [
    {
     "data": {
      "text/html": [
       "<div>\n",
       "<style scoped>\n",
       "    .dataframe tbody tr th:only-of-type {\n",
       "        vertical-align: middle;\n",
       "    }\n",
       "\n",
       "    .dataframe tbody tr th {\n",
       "        vertical-align: top;\n",
       "    }\n",
       "\n",
       "    .dataframe thead th {\n",
       "        text-align: right;\n",
       "    }\n",
       "</style>\n",
       "<table border=\"1\" class=\"dataframe\">\n",
       "  <thead>\n",
       "    <tr style=\"text-align: right;\">\n",
       "      <th></th>\n",
       "      <th>user_id</th>\n",
       "      <th>event</th>\n",
       "      <th>time</th>\n",
       "    </tr>\n",
       "  </thead>\n",
       "  <tbody>\n",
       "    <tr>\n",
       "      <th>0</th>\n",
       "      <td>0</td>\n",
       "      <td>register</td>\n",
       "      <td>2018-08-24 19:34:36</td>\n",
       "    </tr>\n",
       "    <tr>\n",
       "      <th>1</th>\n",
       "      <td>0</td>\n",
       "      <td>view_product_search</td>\n",
       "      <td>2018-08-24 19:34:48</td>\n",
       "    </tr>\n",
       "    <tr>\n",
       "      <th>2</th>\n",
       "      <td>0</td>\n",
       "      <td>view_ingredient</td>\n",
       "      <td>2018-08-24 19:34:52</td>\n",
       "    </tr>\n",
       "    <tr>\n",
       "      <th>3</th>\n",
       "      <td>0</td>\n",
       "      <td>view_ingredient</td>\n",
       "      <td>2018-08-24 19:34:55</td>\n",
       "    </tr>\n",
       "    <tr>\n",
       "      <th>4</th>\n",
       "      <td>0</td>\n",
       "      <td>view_ingredient</td>\n",
       "      <td>2018-08-24 19:34:58</td>\n",
       "    </tr>\n",
       "  </tbody>\n",
       "</table>\n",
       "</div>"
      ],
      "text/plain": [
       "   user_id                event                 time\n",
       "0        0             register  2018-08-24 19:34:36\n",
       "1        0  view_product_search  2018-08-24 19:34:48\n",
       "2        0      view_ingredient  2018-08-24 19:34:52\n",
       "3        0      view_ingredient  2018-08-24 19:34:55\n",
       "4        0      view_ingredient  2018-08-24 19:34:58"
      ]
     },
     "execution_count": 69,
     "metadata": {},
     "output_type": "execute_result"
    }
   ],
   "source": [
    "all_data = pd.read_csv(\"./dataset/log.csv\", encoding = 'utf-8')\n",
    "all_data.head()"
   ]
  },
  {
   "cell_type": "code",
   "execution_count": 70,
   "metadata": {},
   "outputs": [
    {
     "name": "stdout",
     "output_type": "stream",
     "text": [
      "<class 'pandas.core.frame.DataFrame'>\n",
      "RangeIndex: 1091527 entries, 0 to 1091526\n",
      "Data columns (total 3 columns):\n",
      "user_id    1091527 non-null int64\n",
      "event      1091527 non-null object\n",
      "time       1091527 non-null object\n",
      "dtypes: int64(1), object(2)\n",
      "memory usage: 25.0+ MB\n"
     ]
    }
   ],
   "source": [
    "all_data.info()"
   ]
  },
  {
   "cell_type": "code",
   "execution_count": 71,
   "metadata": {},
   "outputs": [
    {
     "data": {
      "text/plain": [
       "view_ingredient         433635\n",
       "view_review             429567\n",
       "view_product_ranking     71158\n",
       "view_product_search      70455\n",
       "view_event               38203\n",
       "view_hwahaeplus          37218\n",
       "login                     6291\n",
       "register                  5000\n",
       "Name: event, dtype: int64"
      ]
     },
     "execution_count": 71,
     "metadata": {},
     "output_type": "execute_result"
    }
   ],
   "source": [
    "all_data['event'].value_counts()"
   ]
  },
  {
   "cell_type": "markdown",
   "metadata": {},
   "source": [
    "view_ingredient : 특정 성분 클릭     \n",
    "view_review : 특정 리뷰 클릭    \n",
    "view_product_ranking : 랭킹 제품 클릭    \n",
    "view_product_search : 검색 제품 클릭    \n",
    "view_event : 이벤트 클릭    \n",
    "view_hwahaeplus : 화플 클릭    \n",
    "login : 가입 후 재방문    \n",
    "register : 가입(최초 방문)    "
   ]
  },
  {
   "cell_type": "markdown",
   "metadata": {},
   "source": [
    "## Event별 상관관계 분석\n",
    "R스크립트로 진행했습니다."
   ]
  },
  {
   "cell_type": "markdown",
   "metadata": {},
   "source": [
    "## dummy 행렬 만들기"
   ]
  },
  {
   "cell_type": "code",
   "execution_count": 72,
   "metadata": {},
   "outputs": [],
   "source": [
    "# data를 넣기 쉽게 하기 위해서 \n",
    "dummy = np.zeros(shape=(5000, 8), dtype=np.float32)\n",
    "columns = ['register', 'login', 'view_product_search', 'view_product_ranking', \n",
    "           'view_ingredient', 'view_review', 'view_hwahaeplus', 'view_event']"
   ]
  },
  {
   "cell_type": "code",
   "execution_count": 73,
   "metadata": {},
   "outputs": [
    {
     "data": {
      "text/plain": [
       "314499.0"
      ]
     },
     "execution_count": 73,
     "metadata": {},
     "output_type": "execute_result"
    }
   ],
   "source": [
    "time1 = all_data['time'][316]\n",
    "time2 = all_data['time'][317]\n",
    "data1 = datetime.strptime(time1, '%Y-%m-%d %H:%M:%S')\n",
    "data2 = datetime.strptime(time2, '%Y-%m-%d %H:%M:%S')\n",
    "\n",
    "sub = data2 - data1\n",
    "sub.total_seconds()"
   ]
  },
  {
   "cell_type": "code",
   "execution_count": 74,
   "metadata": {},
   "outputs": [
    {
     "name": "stdout",
     "output_type": "stream",
     "text": [
      "[[0 'register' '2018-08-24 19:34:36' 0]\n",
      " [0 'view_product_search' '2018-08-24 19:34:48' 0]\n",
      " [0 'view_ingredient' '2018-08-24 19:34:52' 0]\n",
      " ...\n",
      " [4999 'view_ingredient' '2018-08-20 03:11:18' 0]\n",
      " [4999 'view_ingredient' '2018-08-20 03:11:23' 0]\n",
      " [4999 'view_review' '2018-08-20 03:11:24' 0]]\n"
     ]
    }
   ],
   "source": [
    "all_data['time_cost'] = 0\n",
    "all_data_np = np.array(all_data) # 연산 속도 위해서 \n",
    "print(all_data_np)"
   ]
  },
  {
   "cell_type": "markdown",
   "metadata": {},
   "source": [
    "## User_path : 메뉴별 체류시간"
   ]
  },
  {
   "cell_type": "code",
   "execution_count": 75,
   "metadata": {},
   "outputs": [],
   "source": [
    "for i in range(len(all_data_np) - 1):\n",
    "    # 각 이벤트마다 시간 차이 구하기 #\n",
    "    if all_data_np[i, 0] == all_data_np[i+1, 0]:\n",
    "        time1 = all_data_np[i, 2]\n",
    "        time2 = all_data_np[i+1, 2]\n",
    "        data1 = datetime.strptime(time1, '%Y-%m-%d %H:%M:%S')\n",
    "        data2 = datetime.strptime(time2, '%Y-%m-%d %H:%M:%S')\n",
    "        sub = data2 - data1\n",
    "        all_data_np[i, -1] = sub.total_seconds()"
   ]
  },
  {
   "cell_type": "code",
   "execution_count": 77,
   "metadata": {},
   "outputs": [],
   "source": [
    "for i in range(len(all_data_np) - 1):\n",
    "    if all_data_np[i+1, 1] != 'login':\n",
    "        dummy[all_data_np[i, 0], columns.index(all_data_np[i, 1])] += all_data_np[i, 3]"
   ]
  },
  {
   "cell_type": "code",
   "execution_count": 78,
   "metadata": {},
   "outputs": [
    {
     "data": {
      "text/html": [
       "<div>\n",
       "<style scoped>\n",
       "    .dataframe tbody tr th:only-of-type {\n",
       "        vertical-align: middle;\n",
       "    }\n",
       "\n",
       "    .dataframe tbody tr th {\n",
       "        vertical-align: top;\n",
       "    }\n",
       "\n",
       "    .dataframe thead th {\n",
       "        text-align: right;\n",
       "    }\n",
       "</style>\n",
       "<table border=\"1\" class=\"dataframe\">\n",
       "  <thead>\n",
       "    <tr style=\"text-align: right;\">\n",
       "      <th></th>\n",
       "      <th>register</th>\n",
       "      <th>login</th>\n",
       "      <th>view_product_search</th>\n",
       "      <th>view_product_ranking</th>\n",
       "      <th>view_ingredient</th>\n",
       "      <th>view_review</th>\n",
       "      <th>view_hwahaeplus</th>\n",
       "      <th>view_event</th>\n",
       "    </tr>\n",
       "  </thead>\n",
       "  <tbody>\n",
       "    <tr>\n",
       "      <th>0</th>\n",
       "      <td>12.0</td>\n",
       "      <td>0.0</td>\n",
       "      <td>24.0</td>\n",
       "      <td>0.0</td>\n",
       "      <td>57.0</td>\n",
       "      <td>73.0</td>\n",
       "      <td>33.0</td>\n",
       "      <td>0.0</td>\n",
       "    </tr>\n",
       "    <tr>\n",
       "      <th>1</th>\n",
       "      <td>6.0</td>\n",
       "      <td>55.0</td>\n",
       "      <td>221.0</td>\n",
       "      <td>212.0</td>\n",
       "      <td>2328.0</td>\n",
       "      <td>2505.0</td>\n",
       "      <td>248.0</td>\n",
       "      <td>278.0</td>\n",
       "    </tr>\n",
       "    <tr>\n",
       "      <th>2</th>\n",
       "      <td>7.0</td>\n",
       "      <td>0.0</td>\n",
       "      <td>0.0</td>\n",
       "      <td>0.0</td>\n",
       "      <td>0.0</td>\n",
       "      <td>0.0</td>\n",
       "      <td>0.0</td>\n",
       "      <td>0.0</td>\n",
       "    </tr>\n",
       "    <tr>\n",
       "      <th>3</th>\n",
       "      <td>10.0</td>\n",
       "      <td>34.0</td>\n",
       "      <td>45.0</td>\n",
       "      <td>74.0</td>\n",
       "      <td>369.0</td>\n",
       "      <td>313.0</td>\n",
       "      <td>82.0</td>\n",
       "      <td>195.0</td>\n",
       "    </tr>\n",
       "    <tr>\n",
       "      <th>4</th>\n",
       "      <td>14.0</td>\n",
       "      <td>0.0</td>\n",
       "      <td>12.0</td>\n",
       "      <td>0.0</td>\n",
       "      <td>20.0</td>\n",
       "      <td>38.0</td>\n",
       "      <td>15.0</td>\n",
       "      <td>49.0</td>\n",
       "    </tr>\n",
       "  </tbody>\n",
       "</table>\n",
       "</div>"
      ],
      "text/plain": [
       "   register  login  view_product_search  view_product_ranking  \\\n",
       "0      12.0    0.0                 24.0                   0.0   \n",
       "1       6.0   55.0                221.0                 212.0   \n",
       "2       7.0    0.0                  0.0                   0.0   \n",
       "3      10.0   34.0                 45.0                  74.0   \n",
       "4      14.0    0.0                 12.0                   0.0   \n",
       "\n",
       "   view_ingredient  view_review  view_hwahaeplus  view_event  \n",
       "0             57.0         73.0             33.0         0.0  \n",
       "1           2328.0       2505.0            248.0       278.0  \n",
       "2              0.0          0.0              0.0         0.0  \n",
       "3            369.0        313.0             82.0       195.0  \n",
       "4             20.0         38.0             15.0        49.0  "
      ]
     },
     "execution_count": 78,
     "metadata": {},
     "output_type": "execute_result"
    }
   ],
   "source": [
    "time_df = pd.DataFrame(dummy)\n",
    "time_df.columns = columns\n",
    "time_df.head()"
   ]
  },
  {
   "cell_type": "markdown",
   "metadata": {},
   "source": [
    "## register 후에 login이 있다면, login까지 시간(day)"
   ]
  },
  {
   "cell_type": "code",
   "execution_count": 85,
   "metadata": {},
   "outputs": [],
   "source": [
    "login_time = np.zeros(shape=(5000, 1))\n",
    "for i in range(len(all_data_np)):\n",
    "    if all_data_np[i, 1] == 'register':\n",
    "        time1 = all_data_np[i, 2]\n",
    "        data1 = datetime.strptime(time1, '%Y-%m-%d %H:%M:%S')\n",
    "    if all_data_np[i, 1] == 'login':\n",
    "        time2 = all_data_np[i, 2]\n",
    "        data2 = datetime.strptime(time2, '%Y-%m-%d %H:%M:%S')\n",
    "        sub = data2 - data1\n",
    "        if sub.days <= 7:\n",
    "            login_time[all_data_np[i,0]] = 1"
   ]
  },
  {
   "cell_type": "markdown",
   "metadata": {},
   "source": [
    "## 7일 이내 재방문율"
   ]
  },
  {
   "cell_type": "code",
   "execution_count": 86,
   "metadata": {},
   "outputs": [
    {
     "name": "stdout",
     "output_type": "stream",
     "text": [
      "0.397\n"
     ]
    }
   ],
   "source": [
    "login_time_df = pd.DataFrame(login_time)\n",
    "visit_per = len(login_time_df[login_time_df[0]==1]) / len(login_time_df)\n",
    "print(visit_per)"
   ]
  },
  {
   "cell_type": "markdown",
   "metadata": {},
   "source": [
    "## 가입후 재방문이 없는 경우"
   ]
  },
  {
   "cell_type": "code",
   "execution_count": 87,
   "metadata": {},
   "outputs": [
    {
     "name": "stdout",
     "output_type": "stream",
     "text": [
      "0.4334\n"
     ]
    }
   ],
   "source": [
    "login_people = np.zeros(shape=(5000, 1))\n",
    "for i in range(len(all_data_np)):\n",
    "    if all_data_np[i, 1] == 'register':\n",
    "        time1 = all_data_np[i, 2]\n",
    "        data1 = datetime.strptime(time1, '%Y-%m-%d %H:%M:%S')\n",
    "    if all_data_np[i, 1] == 'login':\n",
    "        time2 = all_data_np[i, 2]\n",
    "        data2 = datetime.strptime(time2, '%Y-%m-%d %H:%M:%S')\n",
    "        sub = data2 - data1\n",
    "        login_people[all_data_np[i,0]] = 1\n",
    "\n",
    "login_people_df = pd.DataFrame(login_people)        \n",
    "no_visit = len(login_people_df[login_people_df[0] == 0]) / len(login_people)\n",
    "print(no_visit)"
   ]
  },
  {
   "cell_type": "markdown",
   "metadata": {},
   "source": [
    "## K-means"
   ]
  },
  {
   "cell_type": "code",
   "execution_count": 88,
   "metadata": {},
   "outputs": [],
   "source": [
    "from sklearn.preprocessing import MinMaxScaler\n",
    "from sklearn.cluster import KMeans"
   ]
  },
  {
   "cell_type": "code",
   "execution_count": 89,
   "metadata": {},
   "outputs": [
    {
     "name": "stderr",
     "output_type": "stream",
     "text": [
      "C:\\ProgramData\\Anaconda3\\lib\\site-packages\\sklearn\\preprocessing\\data.py:323: DataConversionWarning: Data with input dtype float32 were all converted to float64 by MinMaxScaler.\n",
      "  return self.partial_fit(X, y)\n"
     ]
    },
    {
     "data": {
      "text/html": [
       "<div>\n",
       "<style scoped>\n",
       "    .dataframe tbody tr th:only-of-type {\n",
       "        vertical-align: middle;\n",
       "    }\n",
       "\n",
       "    .dataframe tbody tr th {\n",
       "        vertical-align: top;\n",
       "    }\n",
       "\n",
       "    .dataframe thead th {\n",
       "        text-align: right;\n",
       "    }\n",
       "</style>\n",
       "<table border=\"1\" class=\"dataframe\">\n",
       "  <thead>\n",
       "    <tr style=\"text-align: right;\">\n",
       "      <th></th>\n",
       "      <th>register</th>\n",
       "      <th>login</th>\n",
       "      <th>view_product_search</th>\n",
       "      <th>view_product_ranking</th>\n",
       "      <th>view_ingredient</th>\n",
       "      <th>view_review</th>\n",
       "      <th>view_hwahaeplus</th>\n",
       "      <th>view_event</th>\n",
       "      <th>res</th>\n",
       "    </tr>\n",
       "  </thead>\n",
       "  <tbody>\n",
       "    <tr>\n",
       "      <th>0</th>\n",
       "      <td>12.0</td>\n",
       "      <td>0.0</td>\n",
       "      <td>24.0</td>\n",
       "      <td>0.0</td>\n",
       "      <td>57.0</td>\n",
       "      <td>73.0</td>\n",
       "      <td>33.0</td>\n",
       "      <td>0.0</td>\n",
       "      <td>4</td>\n",
       "    </tr>\n",
       "    <tr>\n",
       "      <th>1</th>\n",
       "      <td>6.0</td>\n",
       "      <td>55.0</td>\n",
       "      <td>221.0</td>\n",
       "      <td>212.0</td>\n",
       "      <td>2328.0</td>\n",
       "      <td>2505.0</td>\n",
       "      <td>248.0</td>\n",
       "      <td>278.0</td>\n",
       "      <td>1</td>\n",
       "    </tr>\n",
       "    <tr>\n",
       "      <th>2</th>\n",
       "      <td>7.0</td>\n",
       "      <td>0.0</td>\n",
       "      <td>0.0</td>\n",
       "      <td>0.0</td>\n",
       "      <td>0.0</td>\n",
       "      <td>0.0</td>\n",
       "      <td>0.0</td>\n",
       "      <td>0.0</td>\n",
       "      <td>3</td>\n",
       "    </tr>\n",
       "    <tr>\n",
       "      <th>3</th>\n",
       "      <td>10.0</td>\n",
       "      <td>34.0</td>\n",
       "      <td>45.0</td>\n",
       "      <td>74.0</td>\n",
       "      <td>369.0</td>\n",
       "      <td>313.0</td>\n",
       "      <td>82.0</td>\n",
       "      <td>195.0</td>\n",
       "      <td>2</td>\n",
       "    </tr>\n",
       "    <tr>\n",
       "      <th>4</th>\n",
       "      <td>14.0</td>\n",
       "      <td>0.0</td>\n",
       "      <td>12.0</td>\n",
       "      <td>0.0</td>\n",
       "      <td>20.0</td>\n",
       "      <td>38.0</td>\n",
       "      <td>15.0</td>\n",
       "      <td>49.0</td>\n",
       "      <td>4</td>\n",
       "    </tr>\n",
       "  </tbody>\n",
       "</table>\n",
       "</div>"
      ],
      "text/plain": [
       "   register  login  view_product_search  view_product_ranking  \\\n",
       "0      12.0    0.0                 24.0                   0.0   \n",
       "1       6.0   55.0                221.0                 212.0   \n",
       "2       7.0    0.0                  0.0                   0.0   \n",
       "3      10.0   34.0                 45.0                  74.0   \n",
       "4      14.0    0.0                 12.0                   0.0   \n",
       "\n",
       "   view_ingredient  view_review  view_hwahaeplus  view_event  res  \n",
       "0             57.0         73.0             33.0         0.0    4  \n",
       "1           2328.0       2505.0            248.0       278.0    1  \n",
       "2              0.0          0.0              0.0         0.0    3  \n",
       "3            369.0        313.0             82.0       195.0    2  \n",
       "4             20.0         38.0             15.0        49.0    4  "
      ]
     },
     "execution_count": 89,
     "metadata": {},
     "output_type": "execute_result"
    }
   ],
   "source": [
    "# scaling #\n",
    "mm = MinMaxScaler()\n",
    "time_df_scale = mm.fit_transform(time_df)\n",
    "\n",
    "kmeans = KMeans(n_clusters=5, max_iter=1000, random_state=77)\n",
    "res = kmeans.fit_predict(time_df_scale)\n",
    "\n",
    "time_df['res'] = res\n",
    "time_df.head()"
   ]
  },
  {
   "cell_type": "markdown",
   "metadata": {},
   "source": [
    "## register 후에 일어나는 event 확률 구하기"
   ]
  },
  {
   "cell_type": "code",
   "execution_count": 90,
   "metadata": {},
   "outputs": [],
   "source": [
    "prob_after_register = np.zeros(shape=(5000, 8))\n",
    "for i in range(len(all_data_np)-1):\n",
    "    if all_data_np[i, 1] == 'register':\n",
    "        prob_after_register[all_data_np[i,0], columns.index(all_data_np[i+1, 1])] = 1\n",
    "\n",
    "pa_register_df = pd.DataFrame(prob_after_register)\n",
    "pa_register_df.columns = columns"
   ]
  },
  {
   "cell_type": "markdown",
   "metadata": {},
   "source": [
    "## 가입만 하고 재방문 없는 경우"
   ]
  },
  {
   "cell_type": "code",
   "execution_count": 92,
   "metadata": {},
   "outputs": [
    {
     "data": {
      "text/plain": [
       "7"
      ]
     },
     "execution_count": 92,
     "metadata": {},
     "output_type": "execute_result"
    }
   ],
   "source": [
    "len(pa_register_df[pa_register_df['register'] == 1])##-->0.14%"
   ]
  },
  {
   "cell_type": "markdown",
   "metadata": {},
   "source": [
    "## 빈도 구하기"
   ]
  },
  {
   "cell_type": "code",
   "execution_count": 99,
   "metadata": {},
   "outputs": [
    {
     "data": {
      "text/html": [
       "<div>\n",
       "<style scoped>\n",
       "    .dataframe tbody tr th:only-of-type {\n",
       "        vertical-align: middle;\n",
       "    }\n",
       "\n",
       "    .dataframe tbody tr th {\n",
       "        vertical-align: top;\n",
       "    }\n",
       "\n",
       "    .dataframe thead th {\n",
       "        text-align: right;\n",
       "    }\n",
       "</style>\n",
       "<table border=\"1\" class=\"dataframe\">\n",
       "  <thead>\n",
       "    <tr style=\"text-align: right;\">\n",
       "      <th></th>\n",
       "      <th>register</th>\n",
       "      <th>login</th>\n",
       "      <th>view_product_search</th>\n",
       "      <th>view_product_ranking</th>\n",
       "      <th>view_ingredient</th>\n",
       "      <th>view_review</th>\n",
       "      <th>view_hwahaeplus</th>\n",
       "      <th>view_event</th>\n",
       "    </tr>\n",
       "  </thead>\n",
       "  <tbody>\n",
       "    <tr>\n",
       "      <th>0</th>\n",
       "      <td>7.0000</td>\n",
       "      <td>1.0000</td>\n",
       "      <td>1238.0000</td>\n",
       "      <td>1268.0000</td>\n",
       "      <td>0.0</td>\n",
       "      <td>0.0</td>\n",
       "      <td>1253.0000</td>\n",
       "      <td>1233.0000</td>\n",
       "    </tr>\n",
       "    <tr>\n",
       "      <th>prob</th>\n",
       "      <td>0.0014</td>\n",
       "      <td>0.0002</td>\n",
       "      <td>0.2476</td>\n",
       "      <td>0.2536</td>\n",
       "      <td>0.0</td>\n",
       "      <td>0.0</td>\n",
       "      <td>0.2506</td>\n",
       "      <td>0.2466</td>\n",
       "    </tr>\n",
       "  </tbody>\n",
       "</table>\n",
       "</div>"
      ],
      "text/plain": [
       "      register   login  view_product_search  view_product_ranking  \\\n",
       "0       7.0000  1.0000            1238.0000             1268.0000   \n",
       "prob    0.0014  0.0002               0.2476                0.2536   \n",
       "\n",
       "      view_ingredient  view_review  view_hwahaeplus  view_event  \n",
       "0                 0.0          0.0        1253.0000   1233.0000  \n",
       "prob              0.0          0.0           0.2506      0.2466  "
      ]
     },
     "execution_count": 99,
     "metadata": {},
     "output_type": "execute_result"
    }
   ],
   "source": [
    "count_list = []\n",
    "for col in columns:\n",
    "    count_list.append(len(pa_register_df[pa_register_df[col] == 1]))\n",
    "\n",
    "count = np.array(count_list)\n",
    "prob_count = count / 5000\n",
    "prob_register = pd.DataFrame(count)\n",
    "prob_register['prob'] = prob_count\n",
    "prob_register = prob_register.T\n",
    "prob_register.columns = columns\n",
    "prob_register.head()"
   ]
  },
  {
   "cell_type": "markdown",
   "metadata": {},
   "source": [
    "## login 후에 일어나는 event one-hot"
   ]
  },
  {
   "cell_type": "code",
   "execution_count": 98,
   "metadata": {},
   "outputs": [
    {
     "data": {
      "text/html": [
       "<div>\n",
       "<style scoped>\n",
       "    .dataframe tbody tr th:only-of-type {\n",
       "        vertical-align: middle;\n",
       "    }\n",
       "\n",
       "    .dataframe tbody tr th {\n",
       "        vertical-align: top;\n",
       "    }\n",
       "\n",
       "    .dataframe thead th {\n",
       "        text-align: right;\n",
       "    }\n",
       "</style>\n",
       "<table border=\"1\" class=\"dataframe\">\n",
       "  <thead>\n",
       "    <tr style=\"text-align: right;\">\n",
       "      <th></th>\n",
       "      <th>register</th>\n",
       "      <th>login</th>\n",
       "      <th>view_product_search</th>\n",
       "      <th>view_product_ranking</th>\n",
       "      <th>view_ingredient</th>\n",
       "      <th>view_review</th>\n",
       "      <th>view_hwahaeplus</th>\n",
       "      <th>view_event</th>\n",
       "    </tr>\n",
       "  </thead>\n",
       "  <tbody>\n",
       "    <tr>\n",
       "      <th>0</th>\n",
       "      <td>1</td>\n",
       "      <td>1</td>\n",
       "      <td>597</td>\n",
       "      <td>656</td>\n",
       "      <td>0</td>\n",
       "      <td>0</td>\n",
       "      <td>600</td>\n",
       "      <td>654</td>\n",
       "    </tr>\n",
       "  </tbody>\n",
       "</table>\n",
       "</div>"
      ],
      "text/plain": [
       "   register  login  view_product_search  view_product_ranking  \\\n",
       "0         1      1                  597                   656   \n",
       "\n",
       "   view_ingredient  view_review  view_hwahaeplus  view_event  \n",
       "0                0            0              600         654  "
      ]
     },
     "execution_count": 98,
     "metadata": {},
     "output_type": "execute_result"
    }
   ],
   "source": [
    "prob_after_login = np.zeros(shape=(5000, 8))\n",
    "for i in range(len(all_data_np)-1):\n",
    "    if all_data_np[i, 1] == 'register':\n",
    "        time1 = all_data_np[i, 2]\n",
    "        data1 = datetime.strptime(time1, '%Y-%m-%d %H:%M:%S')\n",
    "    if all_data_np[i, 1] == 'login':\n",
    "        time2 = all_data_np[i, 2]\n",
    "        data2 = datetime.strptime(time2, '%Y-%m-%d %H:%M:%S')\n",
    "        sub = data2 - data1\n",
    "        if sub.days <= 7:\n",
    "            prob_after_login[all_data_np[i,0], columns.index(all_data_np[i+1, 1])] = 1\n",
    "\n",
    "prob_after_login_df = pd.DataFrame(prob_after_login)\n",
    "prob_after_login_df.columns = columns\n",
    "count_list = []\n",
    "for col in columns:\n",
    "    count_list.append(len(prob_after_login_df[prob_after_login_df[col] == 1]))\n",
    "count_login = pd.DataFrame(count_list).T\n",
    "count_login.columns = columns\n",
    "count_login.head()"
   ]
  },
  {
   "cell_type": "markdown",
   "metadata": {},
   "source": [
    "## PCA : 차원축소"
   ]
  },
  {
   "cell_type": "code",
   "execution_count": 47,
   "metadata": {},
   "outputs": [],
   "source": [
    "from sklearn.decomposition import pca\n",
    "import matplotlib.pyplot as plt"
   ]
  },
  {
   "cell_type": "code",
   "execution_count": 48,
   "metadata": {},
   "outputs": [],
   "source": [
    "pca_r = pca.PCA(n_components=2, random_state=77)\n",
    "pca_df = pd.DataFrame(pca_r.fit_transform(time_df_scale))\n",
    "np.sum(pca_r.explained_variance_ratio_)\n",
    "\n",
    "pca_df['res'] = res.reshape(5000,1)"
   ]
  },
  {
   "cell_type": "code",
   "execution_count": 49,
   "metadata": {},
   "outputs": [
    {
     "data": {
      "image/png": "[encoded data removed]",
      "text/plain": [
       "<Figure size 432x288 with 1 Axes>"
      ]
     },
     "metadata": {
      "needs_background": "light"
     },
     "output_type": "display_data"
    }
   ],
   "source": [
    "plt.figure()\n",
    "color_list = ['r', 'b', 'g', 'y', 'k']\n",
    "for i in range(len(pca_df)):\n",
    "    plt.scatter(pca_df.iloc[i, 0], pca_df.iloc[i, 1], c=color_list[pca_df.iloc[i,2]])\n",
    "plt.show()"
   ]
  },
  {
   "cell_type": "markdown",
   "metadata": {},
   "source": [
    "## 분석결과"
   ]
  },
  {
   "cell_type": "markdown",
   "metadata": {},
   "source": [
    "- 상관분석에서 7일이내 재방문 고객들은 view_ingredient, view_review 변수와 상관관계가 높았습니다.     \n",
    "  -> 가입 후 재방문 고객들은 특정 성분과 리뷰에 관심이 많았습니다.\n",
    "- PCA 차원축소 후 군집화를 보면, Session time이 길수록 heavy user로 파악됩니다.   \n",
    "- 첫 방문 고객의 경우 화해의 모든 페이지에 방문하므로 각 서비스의 단계별 사용 경험에 따른 보상이 주어진다면, \n",
    "  구매로 이어질 충성고객의 비율이 높아질 것입니다. (화해를 알아가는 고객에게 애정을 실어주는 방법)"
   ]
  },
  {
   "cell_type": "markdown",
   "metadata": {},
   "source": [
    "## 한계점"
   ]
  },
  {
   "cell_type": "markdown",
   "metadata": {},
   "source": [
    "- 데이터의 변수가 빈도를 기반으로 하므로 Kmeans를 사용하는 것은 한계가 있었습니다.\n",
    "- 수정한다면, K-modes 알고리즘을 사용한다면 더 좋은 결과가 나올 것으로 예상합니다."
   ]
  }
 ],
 "metadata": {
  "kernelspec": {
   "display_name": "Python 3",
   "language": "python",
   "name": "python3"
  },
  "language_info": {
   "codemirror_mode": {
    "name": "ipython",
    "version": 3
   },
   "file_extension": ".py",
   "mimetype": "text/x-python",
   "name": "python",
   "nbconvert_exporter": "python",
   "pygments_lexer": "ipython3",
   "version": "3.6.6"
  }
 },
 "nbformat": 4,
 "nbformat_minor": 2
}
